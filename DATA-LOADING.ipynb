{
 "cells": [
  {
   "cell_type": "markdown",
   "id": "547b2319",
   "metadata": {},
   "source": [
    "# Data Loading Demonstration"
   ]
  },
  {
   "cell_type": "code",
   "execution_count": 2,
   "id": "ccfec2f7",
   "metadata": {},
   "outputs": [
    {
     "name": "stdout",
     "output_type": "stream",
     "text": [
      "joblib version: 1.2.0\n"
     ]
    }
   ],
   "source": [
    "import os\n",
    "import joblib\n",
    "\n",
    "print(f'joblib version:', joblib.__version__)"
   ]
  },
  {
   "cell_type": "code",
   "execution_count": 30,
   "id": "60a34f06",
   "metadata": {},
   "outputs": [],
   "source": [
    "train_split_c1 = joblib.load('pets2009-comb-train-view-001.joblib')\n",
    "train_split_c2 = joblib.load('pets2009-comb-train-view-002.joblib')\n",
    "train_split_c3 = joblib.load('pets2009-comb-train-view-003.joblib')\n",
    "train_split_c4 = joblib.load('pets2009-comb-train-view-004.joblib')\n",
    "\n",
    "test_split_c1 = joblib.load('pets2009-comb-test-view-001.joblib')\n",
    "test_split_c2 = joblib.load('pets2009-comb-test-view-002.joblib')\n",
    "test_split_c3 = joblib.load('pets2009-comb-test-view-003.joblib')\n",
    "test_split_c4 = joblib.load('pets2009-comb-test-view-004.joblib')"
   ]
  },
  {
   "cell_type": "code",
   "execution_count": 31,
   "id": "daa20900",
   "metadata": {},
   "outputs": [
    {
     "name": "stdout",
     "output_type": "stream",
     "text": [
      "train: 13 scenes\ttest:14 scenes\n"
     ]
    }
   ],
   "source": [
    "print(f'train: {len(train_split_c1)} scenes\\ttest:{len(test_split_c1)} scenes')"
   ]
  },
  {
   "cell_type": "code",
   "execution_count": 40,
   "id": "8a584390",
   "metadata": {},
   "outputs": [
    {
     "name": "stdout",
     "output_type": "stream",
     "text": [
      "1 Video Scene S1.L1-walking--Time-13-57\n",
      "\tScene Label:0.0\n",
      "\tI3D Features: (14, 2048) I3D Features\n",
      "\tFrame Labels: (14, 16) frame labels\n",
      "2 Video Scene City-Center--Time-14-55\n",
      "\tScene Label:0.0\n",
      "\tI3D Features: (53, 2048) I3D Features\n",
      "\tFrame Labels: (53, 16) frame labels\n",
      "3 Video Scene S3-Event-Recognition--Time-14-31\n",
      "\tScene Label:0.0\n",
      "\tI3D Features: (9, 2048) I3D Features\n",
      "\tFrame Labels: (9, 16) frame labels\n",
      "4 Video Scene S3-Multiple-Flows--Time-14-37\n",
      "\tScene Label:0.0\n",
      "\tI3D Features: (7, 2048) I3D Features\n",
      "\tFrame Labels: (7, 16) frame labels\n",
      "5 Video Scene Regular-Flow--Time-14-06\n",
      "\tScene Label:0.0\n",
      "\tI3D Features: (13, 2048) I3D Features\n",
      "\tFrame Labels: (13, 16) frame labels\n",
      "6 Video Scene Background-Set--Time-13-06\n",
      "\tScene Label:0.0\n",
      "\tI3D Features: (28, 2048) I3D Features\n",
      "\tFrame Labels: (28, 16) frame labels\n",
      "7 Video Scene S2.L3-walking--Time-14-41\n",
      "\tScene Label:0.0\n",
      "\tI3D Features: (16, 2048) I3D Features\n",
      "\tFrame Labels: (16, 16) frame labels\n",
      "8 Video Scene Background-Set--Time-13-19\n",
      "\tScene Label:0.0\n",
      "\tI3D Features: (29, 2048) I3D Features\n",
      "\tFrame Labels: (29, 16) frame labels\n",
      "9 Video Scene S2.L2-walking--Time-14-55\n",
      "\tScene Label:0.0\n",
      "\tI3D Features: (28, 2048) I3D Features\n",
      "\tFrame Labels: (28, 16) frame labels\n",
      "10 Video Scene S3-Multiple-Flows--Time-14-46\n",
      "\tScene Label:1.0\n",
      "\tI3D Features: (11, 2048) I3D Features\n",
      "\tFrame Labels: (11, 16) frame labels\n",
      "11 Video Scene S3-Event-Recognition--Time-14-27\n",
      "\tScene Label:1.0\n",
      "\tI3D Features: (21, 2048) I3D Features\n",
      "\tFrame Labels: (21, 16) frame labels\n",
      "12 Video Scene S3-Event-Recognition--Time-14-33\n",
      "\tScene Label:1.0\n",
      "\tI3D Features: (24, 2048) I3D Features\n",
      "\tFrame Labels: (24, 16) frame labels\n",
      "13 Video Scene S1.L3-running--Time-14-17\n",
      "\tScene Label:1.0\n",
      "\tI3D Features: (6, 2048) I3D Features\n",
      "\tFrame Labels: (6, 16) frame labels\n"
     ]
    }
   ],
   "source": [
    "for idx, video in enumerate(train_split_c1):\n",
    "    print(f'{idx+1} Video Scene {video.name}')\n",
    "    print(f'\\tScene Label:{video.y_i}')\n",
    "    print(f'\\tI3D Features: {video.X_i.shape} I3D Features')\n",
    "    print(f'\\tFrame Labels: {video.y_fi.shape} frame labels')"
   ]
  },
  {
   "cell_type": "code",
   "execution_count": 41,
   "id": "49b8d246",
   "metadata": {},
   "outputs": [
    {
     "name": "stdout",
     "output_type": "stream",
     "text": [
      "1 Video Scene Regular-Flow--Time-13-57\n",
      "\tScene Label:0.0\n",
      "\tI3D Features: (14, 2048) I3D Features\n",
      "\tFrame Labels: (14, 16) frame labels\n",
      "2 Video Scene Regular-Flow--Time-14-29\n",
      "\tScene Label:0.0\n",
      "\tI3D Features: (10, 2048) I3D Features\n",
      "\tFrame Labels: (10, 16) frame labels\n",
      "3 Video Scene S1.L2-walking--Time-14-06\n",
      "\tScene Label:0.0\n",
      "\tI3D Features: (13, 2048) I3D Features\n",
      "\tFrame Labels: (13, 16) frame labels\n",
      "4 Video Scene S1.L2-walking--Time-14-31\n",
      "\tScene Label:0.0\n",
      "\tI3D Features: (9, 2048) I3D Features\n",
      "\tFrame Labels: (9, 16) frame labels\n",
      "5 Video Scene S1.L1-walking--Time-13-59\n",
      "\tScene Label:0.0\n",
      "\tI3D Features: (16, 2048) I3D Features\n",
      "\tFrame Labels: (16, 16) frame labels\n",
      "6 Video Scene Regular-Flow--Time-13-59\n",
      "\tScene Label:0.0\n",
      "\tI3D Features: (16, 2048) I3D Features\n",
      "\tFrame Labels: (16, 16) frame labels\n",
      "7 Video Scene Background-Set--Time-13-38\n",
      "\tScene Label:0.0\n",
      "\tI3D Features: (29, 2048) I3D Features\n",
      "\tFrame Labels: (29, 16) frame labels\n",
      "8 Video Scene Regular-Flow--Time-14-03\n",
      "\tScene Label:0.0\n",
      "\tI3D Features: (26, 2048) I3D Features\n",
      "\tFrame Labels: (26, 16) frame labels\n",
      "9 Video Scene Background-Set--Time-13-32\n",
      "\tScene Label:0.0\n",
      "\tI3D Features: (29, 2048) I3D Features\n",
      "\tFrame Labels: (29, 16) frame labels\n",
      "10 Video Scene City-Center--Time-12-34\n",
      "\tScene Label:0.0\n",
      "\tI3D Features: (50, 2048) I3D Features\n",
      "\tFrame Labels: (50, 16) frame labels\n",
      "11 Video Scene S1.L3-running--Time-14-33\n",
      "\tScene Label:1.0\n",
      "\tI3D Features: (22, 2048) I3D Features\n",
      "\tFrame Labels: (22, 16) frame labels\n",
      "12 Video Scene S3-Multiple-Flows--Time-14-13\n",
      "\tScene Label:1.0\n",
      "\tI3D Features: (15, 2048) I3D Features\n",
      "\tFrame Labels: (15, 16) frame labels\n",
      "13 Video Scene S3-Event-Recognition--Time-14-16\n",
      "\tScene Label:1.0\n",
      "\tI3D Features: (14, 2048) I3D Features\n",
      "\tFrame Labels: (14, 16) frame labels\n",
      "14 Video Scene S3-Multiple-Flows--Time-14-52\n",
      "\tScene Label:1.0\n",
      "\tI3D Features: (6, 2048) I3D Features\n",
      "\tFrame Labels: (6, 16) frame labels\n"
     ]
    }
   ],
   "source": [
    "for idx, video in enumerate(test_split_c1):\n",
    "    print(f'{idx+1} Video Scene {video.name}')\n",
    "    print(f'\\tScene Label:{video.y_i}')\n",
    "    print(f'\\tI3D Features: {video.X_i.shape} I3D Features')\n",
    "    print(f'\\tFrame Labels: {video.y_fi.shape} frame labels')"
   ]
  }
 ],
 "metadata": {
  "kernelspec": {
   "display_name": "Python 3 (ipykernel)",
   "language": "python",
   "name": "python3"
  },
  "language_info": {
   "codemirror_mode": {
    "name": "ipython",
    "version": 3
   },
   "file_extension": ".py",
   "mimetype": "text/x-python",
   "name": "python",
   "nbconvert_exporter": "python",
   "pygments_lexer": "ipython3",
   "version": "3.9.16"
  }
 },
 "nbformat": 4,
 "nbformat_minor": 5
}
